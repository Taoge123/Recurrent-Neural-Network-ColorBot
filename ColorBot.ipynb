{
 "cells": [
  {
   "cell_type": "code",
   "execution_count": 1,
   "metadata": {},
   "outputs": [
    {
     "name": "stdout",
     "output_type": "stream",
     "text": [
      "Tested with TensorFlow 1.2.0\n",
      "Your TensorFlow version: 1.2.0\n"
     ]
    }
   ],
   "source": [
    "from __future__ import absolute_import\n",
    "from __future__ import division\n",
    "from __future__ import print_function\n",
    "\n",
    "# Tensorflow\n",
    "import tensorflow as tf\n",
    "print('Tested with TensorFlow 1.2.0')\n",
    "print('Your TensorFlow version:', tf.__version__) \n",
    "\n",
    "# Feeding function for enqueue data\n",
    "from tensorflow.python.estimator.inputs.queues import feeding_functions as ff\n",
    "\n",
    "# Rnn common functions\n",
    "from tensorflow.contrib.learn.python.learn.estimators import rnn_common\n",
    "\n",
    "# Run an experiment\n",
    "from tensorflow.contrib.learn.python.learn import learn_runner\n",
    "\n",
    "# Model builder\n",
    "from tensorflow.python.estimator import model_fn as model_fn_lib\n",
    "\n",
    "# Plot images with pyplot\n",
    "%matplotlib inline\n",
    "from matplotlib import pyplot as plt\n",
    "\n",
    "# Helpers for data processing\n",
    "import pandas as pd\n",
    "import numpy as np\n",
    "import argparse"
   ]
  },
  {
   "cell_type": "code",
   "execution_count": 2,
   "metadata": {
    "collapsed": true
   },
   "outputs": [],
   "source": [
    "# Data files\n",
    "TRAIN_INPUT = 'data/train.csv'\n",
    "TEST_INPUT = 'data/test.csv'\n",
    "MY_TEST_INPUT = 'data/mytest.csv'\n",
    "\n",
    "# Parameters for training\n",
    "BATCH_SIZE = 64\n",
    "\n",
    "# Parameters for data processing\n",
    "VOCAB_SIZE = 256\n",
    "CHARACTERS = [chr(i) for i in range(VOCAB_SIZE)]\n",
    "SEQUENCE_LENGTH_KEY = 'sequence_length'\n",
    "COLOR_NAME_KEY = 'color_name'"
   ]
  },
  {
   "cell_type": "code",
   "execution_count": 3,
   "metadata": {
    "collapsed": true
   },
   "outputs": [],
   "source": [
    "# Returns the column values from a CSV file as a list\n",
    "def _get_csv_column(csv_file, column_name):\n",
    "    with open(csv_file, 'r') as f:\n",
    "        df = pd.read_csv(f)\n",
    "        return df[column_name].tolist()\n",
    "\n",
    "# Plots a color image\n",
    "def _plot_rgb(rgb):\n",
    "    data = [[rgb]]\n",
    "    plt.figure(figsize=(2,2))\n",
    "    plt.imshow(data, interpolation='nearest')\n",
    "    plt.show()"
   ]
  },
  {
   "cell_type": "code",
   "execution_count": 4,
   "metadata": {
    "collapsed": true
   },
   "outputs": [],
   "source": [
    "def get_input_fn(csv_file, batch_size, num_epochs=1, shuffle=True):\n",
    "    def _parse(line):\n",
    "        # each line: name, red, green, blue\n",
    "        # split line\n",
    "        items = tf.string_split([line],',').values\n",
    "\n",
    "        # get color (r, g, b)\n",
    "        color = tf.string_to_number(items[1:], out_type=tf.float32) / 255.0\n",
    "\n",
    "        # split color_name into a sequence of characters\n",
    "        color_name = tf.string_split([items[0]], '')\n",
    "        length = color_name.indices[-1, 1] + 1 # length = index of last char + 1\n",
    "        color_name = color_name.values\n",
    "        \n",
    "        return color, color_name, length\n",
    "\n",
    "    def _length_bin(length, cast_value=5, max_bin_id=10):\n",
    "        '''\n",
    "        Chooses a bin for a word given it's length.\n",
    "        The goal is to use group_by_window to group words\n",
    "        with the ~ same ~ length in the same bin.\n",
    "\n",
    "        Each bin will have the size of a batch, so it can train faster.\n",
    "        '''\n",
    "        bin_id = tf.cast(length / cast_value, dtype=tf.int64)\n",
    "        return tf.minimum(bin_id, max_bin_id)\n",
    "\n",
    "    def _pad_batch(ds, batch_size):\n",
    "        return ds.padded_batch(batch_size, \n",
    "                               padded_shapes=([None], [None], []),\n",
    "                               padding_values=(0.0, chr(0), tf.cast(0, tf.int64)))\n",
    "\n",
    "    def input_fn():\n",
    "        # https://github.com/tensorflow/tensorflow/tree/master/tensorflow/contrib/data\n",
    "        dataset = (\n",
    "            tf.contrib.data.TextLineDataset(csv_file) # reading from the HD\n",
    "            .skip(1) # skip header\n",
    "            .repeat(num_epochs) # repeat dataset the number of epochs\n",
    "            .map(_parse) # parse text to variables\n",
    "            .group_by_window(key_func=lambda color, color_name, length: _length_bin(length), # choose a bin\n",
    "                             reduce_func=lambda key, ds: _pad_batch(ds, batch_size), # apply reduce funtion\n",
    "                             window_size=batch_size)\n",
    "        )\n",
    "        \n",
    "        # for our \"manual\" test we don't want to shuffle the data\n",
    "        if shuffle:\n",
    "            dataset = dataset.shuffle(buffer_size=100000)\n",
    "\n",
    "        # create iterator\n",
    "        color, color_name, length = dataset.make_one_shot_iterator().get_next()\n",
    "\n",
    "        features = {\n",
    "            COLOR_NAME_KEY: color_name,\n",
    "            SEQUENCE_LENGTH_KEY: length,\n",
    "        }\n",
    "\n",
    "        return features, color\n",
    "    return input_fn"
   ]
  },
  {
   "cell_type": "code",
   "execution_count": 5,
   "metadata": {
    "collapsed": true
   },
   "outputs": [],
   "source": [
    "train_input_fn = get_input_fn(TRAIN_INPUT, BATCH_SIZE)\n",
    "test_input_fn = get_input_fn(TEST_INPUT, BATCH_SIZE)"
   ]
  },
  {
   "cell_type": "code",
   "execution_count": 6,
   "metadata": {},
   "outputs": [
    {
     "name": "stdout",
     "output_type": "stream",
     "text": [
      "{'color_name': array([[b'b', b'l', b'o', b'o', b'd', b' ', b'r', b'e', b'd']], dtype=object), 'sequence_length': array([9])}\n",
      "[[ 0.37254903  0.61960787  0.627451  ]]\n"
     ]
    }
   ],
   "source": [
    "x, y = get_input_fn(TRAIN_INPUT, 1)()\n",
    "\n",
    "with tf.Session() as s:\n",
    "    print(s.run(x))\n",
    "    print(s.run(y))"
   ]
  },
  {
   "cell_type": "code",
   "execution_count": 7,
   "metadata": {
    "collapsed": true
   },
   "outputs": [],
   "source": [
    "def get_model_fn(rnn_cell_sizes,\n",
    "                 label_dimension,\n",
    "                 dnn_layer_sizes=[],\n",
    "                 optimizer='SGD',\n",
    "                 learning_rate=0.01):\n",
    "    \n",
    "    def model_fn(features, labels, mode):\n",
    "        \n",
    "        color_name = features[COLOR_NAME_KEY]\n",
    "        sequence_length = tf.cast(features[SEQUENCE_LENGTH_KEY], dtype=tf.int32) # int64 -> int32\n",
    "        \n",
    "        # ----------- Preparing input --------------------\n",
    "        # Creating a tf constant to hold the map char -> index\n",
    "        mapping = tf.constant(CHARACTERS, name=\"mapping\")\n",
    "        table = tf.contrib.lookup.index_table_from_tensor(mapping, dtype=tf.string)\n",
    "        int_color_name = table.lookup(color_name)\n",
    "        \n",
    "        # converting color names to one hot representation\n",
    "        color_name_onehot = tf.one_hot(int_color_name, depth=len(CHARACTERS) + 1)\n",
    "        \n",
    "        # ---------- RNN -------------------\n",
    "        # Each RNN layer will consist of a LSTM cell\n",
    "        rnn_layers = [tf.nn.rnn_cell.LSTMCell(size) for size in rnn_cell_sizes]\n",
    "        \n",
    "        # Construct the layers\n",
    "        multi_rnn_cell = tf.nn.rnn_cell.MultiRNNCell(rnn_layers)\n",
    "        \n",
    "        # Runs the RNN model dynamically\n",
    "        # more about it at: \n",
    "        # https://www.tensorflow.org/api_docs/python/tf/nn/dynamic_rnn\n",
    "        outputs, final_state = tf.nn.dynamic_rnn(cell=multi_rnn_cell,\n",
    "                                                 inputs=color_name_onehot,\n",
    "                                                 sequence_length=sequence_length,\n",
    "                                                 dtype=tf.float32)\n",
    "\n",
    "        # Slice to keep only the last cell of the RNN\n",
    "        last_activations = rnn_common.select_last_activations(outputs,\n",
    "                                                              sequence_length)\n",
    "\n",
    "        # ------------ Dense layers -------------------\n",
    "        # Construct dense layers on top of the last cell of the RNN\n",
    "        for units in dnn_layer_sizes:\n",
    "            last_activations = tf.layers.dense(\n",
    "              last_activations, units, activation=tf.nn.relu)\n",
    "        \n",
    "        # Final dense layer for prediction\n",
    "        predictions = tf.layers.dense(last_activations, label_dimension)\n",
    "\n",
    "        # ----------- Loss and Optimizer ----------------\n",
    "        loss = None\n",
    "        train_op = None\n",
    "\n",
    "        if mode != tf.estimator.ModeKeys.PREDICT:    \n",
    "            loss = tf.losses.mean_squared_error(labels, predictions)\n",
    "    \n",
    "        if mode == tf.estimator.ModeKeys.TRAIN:    \n",
    "            train_op = tf.contrib.layers.optimize_loss(\n",
    "              loss,\n",
    "              tf.contrib.framework.get_global_step(),\n",
    "              optimizer=optimizer,\n",
    "              learning_rate=learning_rate)\n",
    "        \n",
    "        return model_fn_lib.EstimatorSpec(mode,\n",
    "                                           predictions=predictions,\n",
    "                                           loss=loss,\n",
    "                                           train_op=train_op)\n",
    "    return model_fn"
   ]
  },
  {
   "cell_type": "code",
   "execution_count": 8,
   "metadata": {},
   "outputs": [
    {
     "name": "stdout",
     "output_type": "stream",
     "text": [
      "INFO:tensorflow:Using default config.\n",
      "INFO:tensorflow:Using config: {'_model_dir': 'colorbot', '_tf_random_seed': 1, '_save_summary_steps': 100, '_save_checkpoints_secs': 600, '_save_checkpoints_steps': None, '_session_config': None, '_keep_checkpoint_max': 5, '_keep_checkpoint_every_n_hours': 10000}\n"
     ]
    }
   ],
   "source": [
    "model_fn = get_model_fn(rnn_cell_sizes=[256, 128], # size of the hidden layers\n",
    "                        label_dimension=3, # since is RGB\n",
    "                        dnn_layer_sizes=[128], # size of units in the dense layers on top of the RNN\n",
    "                        optimizer='Adam', # changing optimizer to Adam\n",
    "                        learning_rate=0.01)\n",
    "\n",
    "estimator = tf.estimator.Estimator(model_fn=model_fn, model_dir='colorbot')"
   ]
  },
  {
   "cell_type": "code",
   "execution_count": 9,
   "metadata": {},
   "outputs": [
    {
     "name": "stdout",
     "output_type": "stream",
     "text": [
      "Training epoch 0\n",
      "--------------------\n"
     ]
    },
    {
     "name": "stderr",
     "output_type": "stream",
     "text": [
      "/Users/taocheng/anaconda/lib/python3.6/site-packages/tensorflow/python/ops/gradients_impl.py:93: UserWarning: Converting sparse IndexedSlices to a dense Tensor of unknown shape. This may consume a large amount of memory.\n",
      "  \"Converting sparse IndexedSlices to a dense Tensor of unknown shape. \"\n"
     ]
    },
    {
     "name": "stdout",
     "output_type": "stream",
     "text": [
      "INFO:tensorflow:Create CheckpointSaverHook.\n",
      "INFO:tensorflow:Restoring parameters from colorbot/model.ckpt-4572\n",
      "INFO:tensorflow:Saving checkpoints for 4573 into colorbot/model.ckpt.\n",
      "INFO:tensorflow:loss = 0.00568408, step = 4573\n",
      "INFO:tensorflow:Saving checkpoints for 4595 into colorbot/model.ckpt.\n",
      "INFO:tensorflow:Loss for final step: 0.00526464.\n",
      "Evaluating epoch 0\n",
      "--------------------\n",
      "INFO:tensorflow:Starting evaluation at 2017-07-15-17:55:42\n",
      "INFO:tensorflow:Restoring parameters from colorbot/model.ckpt-4595\n",
      "INFO:tensorflow:Finished evaluation at 2017-07-15-17:55:43\n",
      "INFO:tensorflow:Saving dict for global step 4595: global_step = 4595, loss = 0.0534455\n",
      "Training epoch 1\n",
      "--------------------\n",
      "INFO:tensorflow:Create CheckpointSaverHook.\n",
      "INFO:tensorflow:Restoring parameters from colorbot/model.ckpt-4595\n",
      "INFO:tensorflow:Saving checkpoints for 4596 into colorbot/model.ckpt.\n",
      "INFO:tensorflow:loss = 0.00846301, step = 4596\n",
      "INFO:tensorflow:Saving checkpoints for 4618 into colorbot/model.ckpt.\n",
      "INFO:tensorflow:Loss for final step: 0.00164088.\n",
      "Evaluating epoch 1\n",
      "--------------------\n",
      "INFO:tensorflow:Starting evaluation at 2017-07-15-17:56:07\n",
      "INFO:tensorflow:Restoring parameters from colorbot/model.ckpt-4618\n",
      "INFO:tensorflow:Finished evaluation at 2017-07-15-17:56:08\n",
      "INFO:tensorflow:Saving dict for global step 4618: global_step = 4618, loss = 0.0480564\n",
      "Training epoch 2\n",
      "--------------------\n",
      "INFO:tensorflow:Create CheckpointSaverHook.\n",
      "INFO:tensorflow:Restoring parameters from colorbot/model.ckpt-4618\n",
      "INFO:tensorflow:Saving checkpoints for 4619 into colorbot/model.ckpt.\n",
      "INFO:tensorflow:loss = 0.00449429, step = 4619\n",
      "INFO:tensorflow:Saving checkpoints for 4641 into colorbot/model.ckpt.\n",
      "INFO:tensorflow:Loss for final step: 0.00657812.\n",
      "Evaluating epoch 2\n",
      "--------------------\n",
      "INFO:tensorflow:Starting evaluation at 2017-07-15-17:56:30\n",
      "INFO:tensorflow:Restoring parameters from colorbot/model.ckpt-4641\n",
      "INFO:tensorflow:Finished evaluation at 2017-07-15-17:56:32\n",
      "INFO:tensorflow:Saving dict for global step 4641: global_step = 4641, loss = 0.057724\n",
      "Training epoch 3\n",
      "--------------------\n",
      "INFO:tensorflow:Create CheckpointSaverHook.\n",
      "INFO:tensorflow:Restoring parameters from colorbot/model.ckpt-4641\n",
      "INFO:tensorflow:Saving checkpoints for 4642 into colorbot/model.ckpt.\n",
      "INFO:tensorflow:loss = 0.00708506, step = 4642\n",
      "INFO:tensorflow:Saving checkpoints for 4664 into colorbot/model.ckpt.\n",
      "INFO:tensorflow:Loss for final step: 0.00745684.\n",
      "Evaluating epoch 3\n",
      "--------------------\n",
      "INFO:tensorflow:Starting evaluation at 2017-07-15-17:56:57\n",
      "INFO:tensorflow:Restoring parameters from colorbot/model.ckpt-4664\n",
      "INFO:tensorflow:Finished evaluation at 2017-07-15-17:56:58\n",
      "INFO:tensorflow:Saving dict for global step 4664: global_step = 4664, loss = 0.0572944\n",
      "Training epoch 4\n",
      "--------------------\n",
      "INFO:tensorflow:Create CheckpointSaverHook.\n",
      "INFO:tensorflow:Restoring parameters from colorbot/model.ckpt-4664\n",
      "INFO:tensorflow:Saving checkpoints for 4665 into colorbot/model.ckpt.\n",
      "INFO:tensorflow:loss = 0.00621249, step = 4665\n",
      "INFO:tensorflow:Saving checkpoints for 4687 into colorbot/model.ckpt.\n",
      "INFO:tensorflow:Loss for final step: 0.00107985.\n",
      "Evaluating epoch 4\n",
      "--------------------\n",
      "INFO:tensorflow:Starting evaluation at 2017-07-15-17:57:17\n",
      "INFO:tensorflow:Restoring parameters from colorbot/model.ckpt-4687\n",
      "INFO:tensorflow:Finished evaluation at 2017-07-15-17:57:18\n",
      "INFO:tensorflow:Saving dict for global step 4687: global_step = 4687, loss = 0.0490759\n",
      "Training epoch 5\n",
      "--------------------\n",
      "INFO:tensorflow:Create CheckpointSaverHook.\n",
      "INFO:tensorflow:Restoring parameters from colorbot/model.ckpt-4687\n",
      "INFO:tensorflow:Saving checkpoints for 4688 into colorbot/model.ckpt.\n",
      "INFO:tensorflow:loss = 0.00486253, step = 4688\n",
      "INFO:tensorflow:Saving checkpoints for 4710 into colorbot/model.ckpt.\n",
      "INFO:tensorflow:Loss for final step: 0.00401883.\n",
      "Evaluating epoch 5\n",
      "--------------------\n",
      "INFO:tensorflow:Starting evaluation at 2017-07-15-17:57:38\n",
      "INFO:tensorflow:Restoring parameters from colorbot/model.ckpt-4710\n",
      "INFO:tensorflow:Finished evaluation at 2017-07-15-17:57:39\n",
      "INFO:tensorflow:Saving dict for global step 4710: global_step = 4710, loss = 0.0475075\n",
      "Training epoch 6\n",
      "--------------------\n",
      "INFO:tensorflow:Create CheckpointSaverHook.\n",
      "INFO:tensorflow:Restoring parameters from colorbot/model.ckpt-4710\n",
      "INFO:tensorflow:Saving checkpoints for 4711 into colorbot/model.ckpt.\n",
      "INFO:tensorflow:loss = 0.00547147, step = 4711\n",
      "INFO:tensorflow:Saving checkpoints for 4733 into colorbot/model.ckpt.\n",
      "INFO:tensorflow:Loss for final step: 0.000644135.\n",
      "Evaluating epoch 6\n",
      "--------------------\n",
      "INFO:tensorflow:Starting evaluation at 2017-07-15-17:57:56\n",
      "INFO:tensorflow:Restoring parameters from colorbot/model.ckpt-4733\n",
      "INFO:tensorflow:Finished evaluation at 2017-07-15-17:57:57\n",
      "INFO:tensorflow:Saving dict for global step 4733: global_step = 4733, loss = 0.0610116\n",
      "Training epoch 7\n",
      "--------------------\n",
      "INFO:tensorflow:Create CheckpointSaverHook.\n",
      "INFO:tensorflow:Restoring parameters from colorbot/model.ckpt-4733\n",
      "INFO:tensorflow:Saving checkpoints for 4734 into colorbot/model.ckpt.\n",
      "INFO:tensorflow:loss = 0.00596635, step = 4734\n",
      "INFO:tensorflow:Saving checkpoints for 4756 into colorbot/model.ckpt.\n",
      "INFO:tensorflow:Loss for final step: 0.00289261.\n",
      "Evaluating epoch 7\n",
      "--------------------\n",
      "INFO:tensorflow:Starting evaluation at 2017-07-15-17:58:16\n",
      "INFO:tensorflow:Restoring parameters from colorbot/model.ckpt-4756\n",
      "INFO:tensorflow:Finished evaluation at 2017-07-15-17:58:17\n",
      "INFO:tensorflow:Saving dict for global step 4756: global_step = 4756, loss = 0.0500253\n",
      "Training epoch 8\n",
      "--------------------\n",
      "INFO:tensorflow:Create CheckpointSaverHook.\n",
      "INFO:tensorflow:Restoring parameters from colorbot/model.ckpt-4756\n",
      "INFO:tensorflow:Saving checkpoints for 4757 into colorbot/model.ckpt.\n",
      "INFO:tensorflow:loss = 0.00262899, step = 4757\n",
      "INFO:tensorflow:Saving checkpoints for 4779 into colorbot/model.ckpt.\n",
      "INFO:tensorflow:Loss for final step: 0.00166964.\n",
      "Evaluating epoch 8\n",
      "--------------------\n",
      "INFO:tensorflow:Starting evaluation at 2017-07-15-17:58:34\n",
      "INFO:tensorflow:Restoring parameters from colorbot/model.ckpt-4779\n",
      "INFO:tensorflow:Finished evaluation at 2017-07-15-17:58:35\n",
      "INFO:tensorflow:Saving dict for global step 4779: global_step = 4779, loss = 0.0500235\n",
      "Training epoch 9\n",
      "--------------------\n",
      "INFO:tensorflow:Create CheckpointSaverHook.\n",
      "INFO:tensorflow:Restoring parameters from colorbot/model.ckpt-4779\n",
      "INFO:tensorflow:Saving checkpoints for 4780 into colorbot/model.ckpt.\n",
      "INFO:tensorflow:loss = 0.00361592, step = 4780\n",
      "INFO:tensorflow:Saving checkpoints for 4802 into colorbot/model.ckpt.\n",
      "INFO:tensorflow:Loss for final step: 0.000324857.\n",
      "Evaluating epoch 9\n",
      "--------------------\n",
      "INFO:tensorflow:Starting evaluation at 2017-07-15-17:58:55\n",
      "INFO:tensorflow:Restoring parameters from colorbot/model.ckpt-4802\n",
      "INFO:tensorflow:Finished evaluation at 2017-07-15-17:58:56\n",
      "INFO:tensorflow:Saving dict for global step 4802: global_step = 4802, loss = 0.046885\n",
      "Training epoch 10\n",
      "--------------------\n",
      "INFO:tensorflow:Create CheckpointSaverHook.\n",
      "INFO:tensorflow:Restoring parameters from colorbot/model.ckpt-4802\n",
      "INFO:tensorflow:Saving checkpoints for 4803 into colorbot/model.ckpt.\n",
      "INFO:tensorflow:loss = 0.00274447, step = 4803\n",
      "INFO:tensorflow:Saving checkpoints for 4825 into colorbot/model.ckpt.\n",
      "INFO:tensorflow:Loss for final step: 0.0019125.\n",
      "Evaluating epoch 10\n",
      "--------------------\n",
      "INFO:tensorflow:Starting evaluation at 2017-07-15-17:59:14\n",
      "INFO:tensorflow:Restoring parameters from colorbot/model.ckpt-4825\n",
      "INFO:tensorflow:Finished evaluation at 2017-07-15-17:59:16\n",
      "INFO:tensorflow:Saving dict for global step 4825: global_step = 4825, loss = 0.0469004\n",
      "Training epoch 11\n",
      "--------------------\n",
      "INFO:tensorflow:Create CheckpointSaverHook.\n",
      "INFO:tensorflow:Restoring parameters from colorbot/model.ckpt-4825\n",
      "INFO:tensorflow:Saving checkpoints for 4826 into colorbot/model.ckpt.\n",
      "INFO:tensorflow:loss = 0.00223135, step = 4826\n",
      "INFO:tensorflow:Saving checkpoints for 4848 into colorbot/model.ckpt.\n",
      "INFO:tensorflow:Loss for final step: 0.000991648.\n",
      "Evaluating epoch 11\n",
      "--------------------\n",
      "INFO:tensorflow:Starting evaluation at 2017-07-15-17:59:35\n",
      "INFO:tensorflow:Restoring parameters from colorbot/model.ckpt-4848\n",
      "INFO:tensorflow:Finished evaluation at 2017-07-15-17:59:37\n"
     ]
    },
    {
     "name": "stdout",
     "output_type": "stream",
     "text": [
      "INFO:tensorflow:Saving dict for global step 4848: global_step = 4848, loss = 0.0448706\n",
      "Training epoch 12\n",
      "--------------------\n",
      "INFO:tensorflow:Create CheckpointSaverHook.\n",
      "INFO:tensorflow:Restoring parameters from colorbot/model.ckpt-4848\n",
      "INFO:tensorflow:Saving checkpoints for 4849 into colorbot/model.ckpt.\n",
      "INFO:tensorflow:loss = 0.00283283, step = 4849\n",
      "INFO:tensorflow:Saving checkpoints for 4871 into colorbot/model.ckpt.\n",
      "INFO:tensorflow:Loss for final step: 0.000136655.\n",
      "Evaluating epoch 12\n",
      "--------------------\n",
      "INFO:tensorflow:Starting evaluation at 2017-07-15-18:00:00\n",
      "INFO:tensorflow:Restoring parameters from colorbot/model.ckpt-4871\n",
      "INFO:tensorflow:Finished evaluation at 2017-07-15-18:00:01\n",
      "INFO:tensorflow:Saving dict for global step 4871: global_step = 4871, loss = 0.0438762\n",
      "Training epoch 13\n",
      "--------------------\n",
      "INFO:tensorflow:Create CheckpointSaverHook.\n",
      "INFO:tensorflow:Restoring parameters from colorbot/model.ckpt-4871\n",
      "INFO:tensorflow:Saving checkpoints for 4872 into colorbot/model.ckpt.\n",
      "INFO:tensorflow:loss = 0.00344502, step = 4872\n",
      "INFO:tensorflow:Saving checkpoints for 4894 into colorbot/model.ckpt.\n",
      "INFO:tensorflow:Loss for final step: 0.00196139.\n",
      "Evaluating epoch 13\n",
      "--------------------\n",
      "INFO:tensorflow:Starting evaluation at 2017-07-15-18:00:26\n",
      "INFO:tensorflow:Restoring parameters from colorbot/model.ckpt-4894\n",
      "INFO:tensorflow:Finished evaluation at 2017-07-15-18:00:27\n",
      "INFO:tensorflow:Saving dict for global step 4894: global_step = 4894, loss = 0.0478791\n",
      "Training epoch 14\n",
      "--------------------\n",
      "INFO:tensorflow:Create CheckpointSaverHook.\n",
      "INFO:tensorflow:Restoring parameters from colorbot/model.ckpt-4894\n",
      "INFO:tensorflow:Saving checkpoints for 4895 into colorbot/model.ckpt.\n",
      "INFO:tensorflow:loss = 0.00109318, step = 4895\n",
      "INFO:tensorflow:Saving checkpoints for 4917 into colorbot/model.ckpt.\n",
      "INFO:tensorflow:Loss for final step: 0.0019266.\n",
      "Evaluating epoch 14\n",
      "--------------------\n",
      "INFO:tensorflow:Starting evaluation at 2017-07-15-18:00:46\n",
      "INFO:tensorflow:Restoring parameters from colorbot/model.ckpt-4917\n",
      "INFO:tensorflow:Finished evaluation at 2017-07-15-18:00:47\n",
      "INFO:tensorflow:Saving dict for global step 4917: global_step = 4917, loss = 0.0594008\n",
      "Training epoch 15\n",
      "--------------------\n",
      "INFO:tensorflow:Create CheckpointSaverHook.\n",
      "INFO:tensorflow:Restoring parameters from colorbot/model.ckpt-4917\n",
      "INFO:tensorflow:Saving checkpoints for 4918 into colorbot/model.ckpt.\n",
      "INFO:tensorflow:loss = 0.00426481, step = 4918\n",
      "INFO:tensorflow:Saving checkpoints for 4940 into colorbot/model.ckpt.\n",
      "INFO:tensorflow:Loss for final step: 0.00134059.\n",
      "Evaluating epoch 15\n",
      "--------------------\n",
      "INFO:tensorflow:Starting evaluation at 2017-07-15-18:01:06\n",
      "INFO:tensorflow:Restoring parameters from colorbot/model.ckpt-4940\n",
      "INFO:tensorflow:Finished evaluation at 2017-07-15-18:01:07\n",
      "INFO:tensorflow:Saving dict for global step 4940: global_step = 4940, loss = 0.0566626\n",
      "Training epoch 16\n",
      "--------------------\n",
      "INFO:tensorflow:Create CheckpointSaverHook.\n",
      "INFO:tensorflow:Restoring parameters from colorbot/model.ckpt-4940\n",
      "INFO:tensorflow:Saving checkpoints for 4941 into colorbot/model.ckpt.\n",
      "INFO:tensorflow:loss = 0.00297819, step = 4941\n",
      "INFO:tensorflow:Saving checkpoints for 4963 into colorbot/model.ckpt.\n",
      "INFO:tensorflow:Loss for final step: 0.0014033.\n",
      "Evaluating epoch 16\n",
      "--------------------\n",
      "INFO:tensorflow:Starting evaluation at 2017-07-15-18:01:27\n",
      "INFO:tensorflow:Restoring parameters from colorbot/model.ckpt-4963\n",
      "INFO:tensorflow:Finished evaluation at 2017-07-15-18:01:28\n",
      "INFO:tensorflow:Saving dict for global step 4963: global_step = 4963, loss = 0.0468664\n",
      "Training epoch 17\n",
      "--------------------\n",
      "INFO:tensorflow:Create CheckpointSaverHook.\n",
      "INFO:tensorflow:Restoring parameters from colorbot/model.ckpt-4963\n",
      "INFO:tensorflow:Saving checkpoints for 4964 into colorbot/model.ckpt.\n",
      "INFO:tensorflow:loss = 0.00252394, step = 4964\n",
      "INFO:tensorflow:Saving checkpoints for 4986 into colorbot/model.ckpt.\n",
      "INFO:tensorflow:Loss for final step: 0.0027787.\n",
      "Evaluating epoch 17\n",
      "--------------------\n",
      "INFO:tensorflow:Starting evaluation at 2017-07-15-18:01:46\n",
      "INFO:tensorflow:Restoring parameters from colorbot/model.ckpt-4986\n",
      "INFO:tensorflow:Finished evaluation at 2017-07-15-18:01:47\n",
      "INFO:tensorflow:Saving dict for global step 4986: global_step = 4986, loss = 0.0437434\n",
      "Training epoch 18\n",
      "--------------------\n",
      "INFO:tensorflow:Create CheckpointSaverHook.\n",
      "INFO:tensorflow:Restoring parameters from colorbot/model.ckpt-4986\n",
      "INFO:tensorflow:Saving checkpoints for 4987 into colorbot/model.ckpt.\n",
      "INFO:tensorflow:loss = 0.00549971, step = 4987\n",
      "INFO:tensorflow:Saving checkpoints for 5009 into colorbot/model.ckpt.\n",
      "INFO:tensorflow:Loss for final step: 0.000789593.\n",
      "Evaluating epoch 18\n",
      "--------------------\n",
      "INFO:tensorflow:Starting evaluation at 2017-07-15-18:02:07\n",
      "INFO:tensorflow:Restoring parameters from colorbot/model.ckpt-5009\n",
      "INFO:tensorflow:Finished evaluation at 2017-07-15-18:02:08\n",
      "INFO:tensorflow:Saving dict for global step 5009: global_step = 5009, loss = 0.0529409\n",
      "Training epoch 19\n",
      "--------------------\n",
      "INFO:tensorflow:Create CheckpointSaverHook.\n",
      "INFO:tensorflow:Restoring parameters from colorbot/model.ckpt-5009\n",
      "INFO:tensorflow:Saving checkpoints for 5010 into colorbot/model.ckpt.\n",
      "INFO:tensorflow:loss = 0.00838311, step = 5010\n",
      "INFO:tensorflow:Saving checkpoints for 5032 into colorbot/model.ckpt.\n",
      "INFO:tensorflow:Loss for final step: 0.00572641.\n",
      "Evaluating epoch 19\n",
      "--------------------\n",
      "INFO:tensorflow:Starting evaluation at 2017-07-15-18:02:25\n",
      "INFO:tensorflow:Restoring parameters from colorbot/model.ckpt-5032\n",
      "INFO:tensorflow:Finished evaluation at 2017-07-15-18:02:26\n",
      "INFO:tensorflow:Saving dict for global step 5032: global_step = 5032, loss = 0.0503056\n",
      "Training epoch 20\n",
      "--------------------\n",
      "INFO:tensorflow:Create CheckpointSaverHook.\n",
      "INFO:tensorflow:Restoring parameters from colorbot/model.ckpt-5032\n",
      "INFO:tensorflow:Saving checkpoints for 5033 into colorbot/model.ckpt.\n",
      "INFO:tensorflow:loss = 0.00355422, step = 5033\n",
      "INFO:tensorflow:Saving checkpoints for 5055 into colorbot/model.ckpt.\n",
      "INFO:tensorflow:Loss for final step: 0.00211802.\n",
      "Evaluating epoch 20\n",
      "--------------------\n",
      "INFO:tensorflow:Starting evaluation at 2017-07-15-18:02:43\n",
      "INFO:tensorflow:Restoring parameters from colorbot/model.ckpt-5055\n",
      "INFO:tensorflow:Finished evaluation at 2017-07-15-18:02:44\n",
      "INFO:tensorflow:Saving dict for global step 5055: global_step = 5055, loss = 0.0557167\n",
      "Training epoch 21\n",
      "--------------------\n",
      "INFO:tensorflow:Create CheckpointSaverHook.\n",
      "INFO:tensorflow:Restoring parameters from colorbot/model.ckpt-5055\n",
      "INFO:tensorflow:Saving checkpoints for 5056 into colorbot/model.ckpt.\n",
      "INFO:tensorflow:loss = 0.00568011, step = 5056\n",
      "INFO:tensorflow:Saving checkpoints for 5078 into colorbot/model.ckpt.\n",
      "INFO:tensorflow:Loss for final step: 0.00363047.\n",
      "Evaluating epoch 21\n",
      "--------------------\n",
      "INFO:tensorflow:Starting evaluation at 2017-07-15-18:03:01\n",
      "INFO:tensorflow:Restoring parameters from colorbot/model.ckpt-5078\n",
      "INFO:tensorflow:Finished evaluation at 2017-07-15-18:03:02\n",
      "INFO:tensorflow:Saving dict for global step 5078: global_step = 5078, loss = 0.0582063\n",
      "Training epoch 22\n",
      "--------------------\n",
      "INFO:tensorflow:Create CheckpointSaverHook.\n",
      "INFO:tensorflow:Restoring parameters from colorbot/model.ckpt-5078\n",
      "INFO:tensorflow:Saving checkpoints for 5079 into colorbot/model.ckpt.\n",
      "INFO:tensorflow:loss = 0.00616115, step = 5079\n",
      "INFO:tensorflow:Saving checkpoints for 5101 into colorbot/model.ckpt.\n",
      "INFO:tensorflow:Loss for final step: 0.00655274.\n",
      "Evaluating epoch 22\n",
      "--------------------\n",
      "INFO:tensorflow:Starting evaluation at 2017-07-15-18:03:19\n",
      "INFO:tensorflow:Restoring parameters from colorbot/model.ckpt-5101\n",
      "INFO:tensorflow:Finished evaluation at 2017-07-15-18:03:20\n",
      "INFO:tensorflow:Saving dict for global step 5101: global_step = 5101, loss = 0.0556691\n",
      "Training epoch 23\n",
      "--------------------\n",
      "INFO:tensorflow:Create CheckpointSaverHook.\n",
      "INFO:tensorflow:Restoring parameters from colorbot/model.ckpt-5101\n",
      "INFO:tensorflow:Saving checkpoints for 5102 into colorbot/model.ckpt.\n",
      "INFO:tensorflow:loss = 0.00895727, step = 5102\n",
      "INFO:tensorflow:Saving checkpoints for 5124 into colorbot/model.ckpt.\n",
      "INFO:tensorflow:Loss for final step: 0.00126677.\n",
      "Evaluating epoch 23\n",
      "--------------------\n"
     ]
    },
    {
     "name": "stdout",
     "output_type": "stream",
     "text": [
      "INFO:tensorflow:Starting evaluation at 2017-07-15-18:03:36\n",
      "INFO:tensorflow:Restoring parameters from colorbot/model.ckpt-5124\n",
      "INFO:tensorflow:Finished evaluation at 2017-07-15-18:03:37\n",
      "INFO:tensorflow:Saving dict for global step 5124: global_step = 5124, loss = 0.0583523\n",
      "Training epoch 24\n",
      "--------------------\n",
      "INFO:tensorflow:Create CheckpointSaverHook.\n",
      "INFO:tensorflow:Restoring parameters from colorbot/model.ckpt-5124\n",
      "INFO:tensorflow:Saving checkpoints for 5125 into colorbot/model.ckpt.\n",
      "INFO:tensorflow:loss = 0.00746646, step = 5125\n",
      "INFO:tensorflow:Saving checkpoints for 5147 into colorbot/model.ckpt.\n",
      "INFO:tensorflow:Loss for final step: 0.00400408.\n",
      "Evaluating epoch 24\n",
      "--------------------\n",
      "INFO:tensorflow:Starting evaluation at 2017-07-15-18:03:54\n",
      "INFO:tensorflow:Restoring parameters from colorbot/model.ckpt-5147\n",
      "INFO:tensorflow:Finished evaluation at 2017-07-15-18:03:55\n",
      "INFO:tensorflow:Saving dict for global step 5147: global_step = 5147, loss = 0.0515888\n",
      "Training epoch 25\n",
      "--------------------\n",
      "INFO:tensorflow:Create CheckpointSaverHook.\n",
      "INFO:tensorflow:Restoring parameters from colorbot/model.ckpt-5147\n",
      "INFO:tensorflow:Saving checkpoints for 5148 into colorbot/model.ckpt.\n",
      "INFO:tensorflow:loss = 0.00648354, step = 5148\n",
      "INFO:tensorflow:Saving checkpoints for 5170 into colorbot/model.ckpt.\n",
      "INFO:tensorflow:Loss for final step: 0.000477466.\n",
      "Evaluating epoch 25\n",
      "--------------------\n",
      "INFO:tensorflow:Starting evaluation at 2017-07-15-18:04:15\n",
      "INFO:tensorflow:Restoring parameters from colorbot/model.ckpt-5170\n",
      "INFO:tensorflow:Finished evaluation at 2017-07-15-18:04:16\n",
      "INFO:tensorflow:Saving dict for global step 5170: global_step = 5170, loss = 0.0427811\n",
      "Training epoch 26\n",
      "--------------------\n",
      "INFO:tensorflow:Create CheckpointSaverHook.\n",
      "INFO:tensorflow:Restoring parameters from colorbot/model.ckpt-5170\n",
      "INFO:tensorflow:Saving checkpoints for 5171 into colorbot/model.ckpt.\n",
      "INFO:tensorflow:loss = 0.016988, step = 5171\n",
      "INFO:tensorflow:Saving checkpoints for 5193 into colorbot/model.ckpt.\n",
      "INFO:tensorflow:Loss for final step: 0.0053621.\n",
      "Evaluating epoch 26\n",
      "--------------------\n",
      "INFO:tensorflow:Starting evaluation at 2017-07-15-18:04:36\n",
      "INFO:tensorflow:Restoring parameters from colorbot/model.ckpt-5193\n",
      "INFO:tensorflow:Finished evaluation at 2017-07-15-18:04:38\n",
      "INFO:tensorflow:Saving dict for global step 5193: global_step = 5193, loss = 0.0540571\n",
      "Training epoch 27\n",
      "--------------------\n",
      "INFO:tensorflow:Create CheckpointSaverHook.\n",
      "INFO:tensorflow:Restoring parameters from colorbot/model.ckpt-5193\n",
      "INFO:tensorflow:Saving checkpoints for 5194 into colorbot/model.ckpt.\n",
      "INFO:tensorflow:loss = 0.0147958, step = 5194\n",
      "INFO:tensorflow:Saving checkpoints for 5216 into colorbot/model.ckpt.\n",
      "INFO:tensorflow:Loss for final step: 0.00329425.\n",
      "Evaluating epoch 27\n",
      "--------------------\n",
      "INFO:tensorflow:Starting evaluation at 2017-07-15-18:05:03\n",
      "INFO:tensorflow:Restoring parameters from colorbot/model.ckpt-5216\n",
      "INFO:tensorflow:Finished evaluation at 2017-07-15-18:05:05\n",
      "INFO:tensorflow:Saving dict for global step 5216: global_step = 5216, loss = 0.065242\n",
      "Training epoch 28\n",
      "--------------------\n",
      "INFO:tensorflow:Create CheckpointSaverHook.\n",
      "INFO:tensorflow:Restoring parameters from colorbot/model.ckpt-5216\n",
      "INFO:tensorflow:Saving checkpoints for 5217 into colorbot/model.ckpt.\n",
      "INFO:tensorflow:loss = 0.011222, step = 5217\n",
      "INFO:tensorflow:Saving checkpoints for 5239 into colorbot/model.ckpt.\n",
      "INFO:tensorflow:Loss for final step: 0.0027373.\n",
      "Evaluating epoch 28\n",
      "--------------------\n",
      "INFO:tensorflow:Starting evaluation at 2017-07-15-18:05:26\n",
      "INFO:tensorflow:Restoring parameters from colorbot/model.ckpt-5239\n",
      "INFO:tensorflow:Finished evaluation at 2017-07-15-18:05:27\n",
      "INFO:tensorflow:Saving dict for global step 5239: global_step = 5239, loss = 0.0493662\n",
      "Training epoch 29\n",
      "--------------------\n",
      "INFO:tensorflow:Create CheckpointSaverHook.\n",
      "INFO:tensorflow:Restoring parameters from colorbot/model.ckpt-5239\n",
      "INFO:tensorflow:Saving checkpoints for 5240 into colorbot/model.ckpt.\n",
      "INFO:tensorflow:loss = 0.0114437, step = 5240\n",
      "INFO:tensorflow:Saving checkpoints for 5262 into colorbot/model.ckpt.\n",
      "INFO:tensorflow:Loss for final step: 0.00566679.\n",
      "Evaluating epoch 29\n",
      "--------------------\n",
      "INFO:tensorflow:Starting evaluation at 2017-07-15-18:05:45\n",
      "INFO:tensorflow:Restoring parameters from colorbot/model.ckpt-5262\n",
      "INFO:tensorflow:Finished evaluation at 2017-07-15-18:05:46\n",
      "INFO:tensorflow:Saving dict for global step 5262: global_step = 5262, loss = 0.0452581\n",
      "Training epoch 30\n",
      "--------------------\n",
      "INFO:tensorflow:Create CheckpointSaverHook.\n",
      "INFO:tensorflow:Restoring parameters from colorbot/model.ckpt-5262\n",
      "INFO:tensorflow:Saving checkpoints for 5263 into colorbot/model.ckpt.\n",
      "INFO:tensorflow:loss = 0.004293, step = 5263\n",
      "INFO:tensorflow:Saving checkpoints for 5285 into colorbot/model.ckpt.\n",
      "INFO:tensorflow:Loss for final step: 5.23305e-05.\n",
      "Evaluating epoch 30\n",
      "--------------------\n",
      "INFO:tensorflow:Starting evaluation at 2017-07-15-18:06:06\n",
      "INFO:tensorflow:Restoring parameters from colorbot/model.ckpt-5285\n",
      "INFO:tensorflow:Finished evaluation at 2017-07-15-18:06:07\n",
      "INFO:tensorflow:Saving dict for global step 5285: global_step = 5285, loss = 0.048075\n",
      "Training epoch 31\n",
      "--------------------\n",
      "INFO:tensorflow:Create CheckpointSaverHook.\n",
      "INFO:tensorflow:Restoring parameters from colorbot/model.ckpt-5285\n",
      "INFO:tensorflow:Saving checkpoints for 5286 into colorbot/model.ckpt.\n",
      "INFO:tensorflow:loss = 0.00350681, step = 5286\n",
      "INFO:tensorflow:Saving checkpoints for 5308 into colorbot/model.ckpt.\n",
      "INFO:tensorflow:Loss for final step: 0.000131556.\n",
      "Evaluating epoch 31\n",
      "--------------------\n",
      "INFO:tensorflow:Starting evaluation at 2017-07-15-18:06:27\n",
      "INFO:tensorflow:Restoring parameters from colorbot/model.ckpt-5308\n",
      "INFO:tensorflow:Finished evaluation at 2017-07-15-18:06:32\n",
      "INFO:tensorflow:Saving dict for global step 5308: global_step = 5308, loss = 0.0541333\n",
      "Training epoch 32\n",
      "--------------------\n",
      "INFO:tensorflow:Create CheckpointSaverHook.\n",
      "INFO:tensorflow:Restoring parameters from colorbot/model.ckpt-5308\n",
      "INFO:tensorflow:Saving checkpoints for 5309 into colorbot/model.ckpt.\n",
      "INFO:tensorflow:loss = 0.00240875, step = 5309\n",
      "INFO:tensorflow:Saving checkpoints for 5331 into colorbot/model.ckpt.\n",
      "INFO:tensorflow:Loss for final step: 0.000616347.\n",
      "Evaluating epoch 32\n",
      "--------------------\n",
      "INFO:tensorflow:Starting evaluation at 2017-07-15-18:06:52\n",
      "INFO:tensorflow:Restoring parameters from colorbot/model.ckpt-5331\n",
      "INFO:tensorflow:Finished evaluation at 2017-07-15-18:06:53\n",
      "INFO:tensorflow:Saving dict for global step 5331: global_step = 5331, loss = 0.0497816\n",
      "Training epoch 33\n",
      "--------------------\n",
      "INFO:tensorflow:Create CheckpointSaverHook.\n",
      "INFO:tensorflow:Restoring parameters from colorbot/model.ckpt-5331\n",
      "INFO:tensorflow:Saving checkpoints for 5332 into colorbot/model.ckpt.\n",
      "INFO:tensorflow:loss = 0.00143249, step = 5332\n",
      "INFO:tensorflow:Saving checkpoints for 5354 into colorbot/model.ckpt.\n",
      "INFO:tensorflow:Loss for final step: 0.000218462.\n",
      "Evaluating epoch 33\n",
      "--------------------\n",
      "INFO:tensorflow:Starting evaluation at 2017-07-15-18:07:19\n",
      "INFO:tensorflow:Restoring parameters from colorbot/model.ckpt-5354\n",
      "INFO:tensorflow:Finished evaluation at 2017-07-15-18:07:20\n",
      "INFO:tensorflow:Saving dict for global step 5354: global_step = 5354, loss = 0.0441356\n",
      "Training epoch 34\n",
      "--------------------\n",
      "INFO:tensorflow:Create CheckpointSaverHook.\n",
      "INFO:tensorflow:Restoring parameters from colorbot/model.ckpt-5354\n",
      "INFO:tensorflow:Saving checkpoints for 5355 into colorbot/model.ckpt.\n",
      "INFO:tensorflow:loss = 0.00169639, step = 5355\n",
      "INFO:tensorflow:Saving checkpoints for 5377 into colorbot/model.ckpt.\n",
      "INFO:tensorflow:Loss for final step: 0.000633389.\n",
      "Evaluating epoch 34\n",
      "--------------------\n",
      "INFO:tensorflow:Starting evaluation at 2017-07-15-18:07:41\n",
      "INFO:tensorflow:Restoring parameters from colorbot/model.ckpt-5377\n",
      "INFO:tensorflow:Finished evaluation at 2017-07-15-18:07:42\n",
      "INFO:tensorflow:Saving dict for global step 5377: global_step = 5377, loss = 0.0393882\n",
      "Training epoch 35\n",
      "--------------------\n",
      "INFO:tensorflow:Create CheckpointSaverHook.\n",
      "INFO:tensorflow:Restoring parameters from colorbot/model.ckpt-5377\n",
      "INFO:tensorflow:Saving checkpoints for 5378 into colorbot/model.ckpt.\n",
      "INFO:tensorflow:loss = 0.0023315, step = 5378\n"
     ]
    },
    {
     "name": "stdout",
     "output_type": "stream",
     "text": [
      "INFO:tensorflow:Saving checkpoints for 5400 into colorbot/model.ckpt.\n",
      "INFO:tensorflow:Loss for final step: 0.000612075.\n",
      "Evaluating epoch 35\n",
      "--------------------\n",
      "INFO:tensorflow:Starting evaluation at 2017-07-15-18:08:08\n",
      "INFO:tensorflow:Restoring parameters from colorbot/model.ckpt-5400\n",
      "INFO:tensorflow:Finished evaluation at 2017-07-15-18:08:09\n",
      "INFO:tensorflow:Saving dict for global step 5400: global_step = 5400, loss = 0.0403995\n",
      "Training epoch 36\n",
      "--------------------\n",
      "INFO:tensorflow:Create CheckpointSaverHook.\n",
      "INFO:tensorflow:Restoring parameters from colorbot/model.ckpt-5400\n",
      "INFO:tensorflow:Saving checkpoints for 5401 into colorbot/model.ckpt.\n",
      "INFO:tensorflow:loss = 0.00207411, step = 5401\n",
      "INFO:tensorflow:Saving checkpoints for 5423 into colorbot/model.ckpt.\n",
      "INFO:tensorflow:Loss for final step: 0.00148978.\n",
      "Evaluating epoch 36\n",
      "--------------------\n",
      "INFO:tensorflow:Starting evaluation at 2017-07-15-18:08:26\n",
      "INFO:tensorflow:Restoring parameters from colorbot/model.ckpt-5423\n",
      "INFO:tensorflow:Finished evaluation at 2017-07-15-18:08:27\n",
      "INFO:tensorflow:Saving dict for global step 5423: global_step = 5423, loss = 0.0457881\n",
      "Training epoch 37\n",
      "--------------------\n",
      "INFO:tensorflow:Create CheckpointSaverHook.\n",
      "INFO:tensorflow:Restoring parameters from colorbot/model.ckpt-5423\n",
      "INFO:tensorflow:Saving checkpoints for 5424 into colorbot/model.ckpt.\n",
      "INFO:tensorflow:loss = 0.00178458, step = 5424\n",
      "INFO:tensorflow:Saving checkpoints for 5446 into colorbot/model.ckpt.\n",
      "INFO:tensorflow:Loss for final step: 0.000911837.\n",
      "Evaluating epoch 37\n",
      "--------------------\n",
      "INFO:tensorflow:Starting evaluation at 2017-07-15-18:08:49\n",
      "INFO:tensorflow:Restoring parameters from colorbot/model.ckpt-5446\n",
      "INFO:tensorflow:Finished evaluation at 2017-07-15-18:08:52\n",
      "INFO:tensorflow:Saving dict for global step 5446: global_step = 5446, loss = 0.0571171\n",
      "Training epoch 38\n",
      "--------------------\n",
      "INFO:tensorflow:Create CheckpointSaverHook.\n",
      "INFO:tensorflow:Restoring parameters from colorbot/model.ckpt-5446\n",
      "INFO:tensorflow:Saving checkpoints for 5447 into colorbot/model.ckpt.\n",
      "INFO:tensorflow:loss = 0.00482645, step = 5447\n",
      "INFO:tensorflow:Saving checkpoints for 5469 into colorbot/model.ckpt.\n",
      "INFO:tensorflow:Loss for final step: 0.000492999.\n",
      "Evaluating epoch 38\n",
      "--------------------\n",
      "INFO:tensorflow:Starting evaluation at 2017-07-15-18:09:16\n",
      "INFO:tensorflow:Restoring parameters from colorbot/model.ckpt-5469\n",
      "INFO:tensorflow:Finished evaluation at 2017-07-15-18:09:17\n",
      "INFO:tensorflow:Saving dict for global step 5469: global_step = 5469, loss = 0.064306\n",
      "Training epoch 39\n",
      "--------------------\n",
      "INFO:tensorflow:Create CheckpointSaverHook.\n",
      "INFO:tensorflow:Restoring parameters from colorbot/model.ckpt-5469\n",
      "INFO:tensorflow:Saving checkpoints for 5470 into colorbot/model.ckpt.\n",
      "INFO:tensorflow:loss = 0.00446167, step = 5470\n",
      "INFO:tensorflow:Saving checkpoints for 5492 into colorbot/model.ckpt.\n",
      "INFO:tensorflow:Loss for final step: 0.00174196.\n",
      "Evaluating epoch 39\n",
      "--------------------\n",
      "INFO:tensorflow:Starting evaluation at 2017-07-15-18:09:41\n",
      "INFO:tensorflow:Restoring parameters from colorbot/model.ckpt-5492\n",
      "INFO:tensorflow:Finished evaluation at 2017-07-15-18:09:42\n",
      "INFO:tensorflow:Saving dict for global step 5492: global_step = 5492, loss = 0.0546852\n"
     ]
    }
   ],
   "source": [
    "NUM_EPOCHS = 40\n",
    "for i in range(NUM_EPOCHS):\n",
    "    print('Training epoch %d' % i)\n",
    "    print('-' * 20)\n",
    "    estimator.train(input_fn=train_input_fn)\n",
    "    print('Evaluating epoch %d' % i)\n",
    "    print('-' * 20)\n",
    "    estimator.evaluate(input_fn = test_input_fn)"
   ]
  },
  {
   "cell_type": "code",
   "execution_count": 10,
   "metadata": {
    "collapsed": true
   },
   "outputs": [],
   "source": [
    "# To making prediction\n",
    "\n",
    "def predict(estimator, input_file):\n",
    "    preds = estimator.predict(input_fn=get_input_fn(input_file, 1, shuffle=False))\n",
    "    color_names = _get_csv_column(input_file, 'name')\n",
    "\n",
    "    print()\n",
    "    for p, name in zip(preds, color_names):\n",
    "        color = tuple(map(int, p * 255))\n",
    "        print(name + ',', 'rgb:', color)\n",
    "        _plot_rgb(p)"
   ]
  },
  {
   "cell_type": "code",
   "execution_count": 11,
   "metadata": {},
   "outputs": [
    {
     "name": "stdout",
     "output_type": "stream",
     "text": [
      "\n",
      "WARNING:tensorflow:Input graph does not contain a QueueRunner. That means predict yields forever. This is probably a mistake.\n",
      "INFO:tensorflow:Restoring parameters from colorbot/model.ckpt-5492\n",
      "orange, rgb: (238, 135, 45)\n"
     ]
    },
    {
     "data": {
      "image/png": "[encoded data removed]",
      "text/plain": [
       "<matplotlib.figure.Figure at 0x1646fd208>"
      ]
     },
     "metadata": {},
     "output_type": "display_data"
    },
    {
     "name": "stdout",
     "output_type": "stream",
     "text": [
      "tensorflow orange, rgb: (231, 135, 67)\n"
     ]
    },
    {
     "data": {
      "image/png": "[encoded data removed]",
      "text/plain": [
       "<matplotlib.figure.Figure at 0x164f91908>"
      ]
     },
     "metadata": {},
     "output_type": "display_data"
    },
    {
     "name": "stdout",
     "output_type": "stream",
     "text": [
      "adfgasdgasd, rgb: (96, 124, 105)\n"
     ]
    },
    {
     "data": {
      "image/png": "[encoded data removed]",
      "text/plain": [
       "<matplotlib.figure.Figure at 0x164e94eb8>"
      ]
     },
     "metadata": {},
     "output_type": "display_data"
    },
    {
     "name": "stdout",
     "output_type": "stream",
     "text": [
      "purple blue, rgb: (79, 58, 217)\n"
     ]
    },
    {
     "data": {
      "image/png": "[encoded data removed]",
      "text/plain": [
       "<matplotlib.figure.Figure at 0x164c0d2e8>"
      ]
     },
     "metadata": {},
     "output_type": "display_data"
    },
    {
     "name": "stdout",
     "output_type": "stream",
     "text": [
      "purple red, rgb: (183, 39, 90)\n"
     ]
    },
    {
     "data": {
      "image/png": "[encoded data removed]",
      "text/plain": [
       "<matplotlib.figure.Figure at 0x165435f28>"
      ]
     },
     "metadata": {},
     "output_type": "display_data"
    },
    {
     "name": "stdout",
     "output_type": "stream",
     "text": [
      "purple, rgb: (128, 18, 143)\n"
     ]
    },
    {
     "data": {
      "image/png": "[encoded data removed]",
      "text/plain": [
       "<matplotlib.figure.Figure at 0x1654b57f0>"
      ]
     },
     "metadata": {},
     "output_type": "display_data"
    },
    {
     "name": "stdout",
     "output_type": "stream",
     "text": [
      "water, rgb: (200, 185, 170)\n"
     ]
    },
    {
     "data": {
      "image/png": "[encoded data removed]",
      "text/plain": [
       "<matplotlib.figure.Figure at 0x164e9af98>"
      ]
     },
     "metadata": {},
     "output_type": "display_data"
    },
    {
     "name": "stdout",
     "output_type": "stream",
     "text": [
      "pink, rgb: (247, 189, 227)\n"
     ]
    },
    {
     "data": {
      "image/png": "[encoded data removed]",
      "text/plain": [
       "<matplotlib.figure.Figure at 0x1655bbe80>"
      ]
     },
     "metadata": {},
     "output_type": "display_data"
    },
    {
     "name": "stdout",
     "output_type": "stream",
     "text": [
      "rock, rgb: (97, 111, 109)\n"
     ]
    },
    {
     "data": {
      "image/png": "[encoded data removed]",
      "text/plain": [
       "<matplotlib.figure.Figure at 0x16563a828>"
      ]
     },
     "metadata": {},
     "output_type": "display_data"
    }
   ],
   "source": [
    "\n",
    "predict(estimator, MY_TEST_INPUT)"
   ]
  },
  {
   "cell_type": "code",
   "execution_count": 12,
   "metadata": {},
   "outputs": [
    {
     "name": "stdout",
     "output_type": "stream",
     "text": [
      "INFO:tensorflow:Using default config.\n",
      "INFO:tensorflow:Using config: {'_model_dir': 'pretrained', '_tf_random_seed': 1, '_save_summary_steps': 100, '_save_checkpoints_secs': 600, '_save_checkpoints_steps': None, '_session_config': None, '_keep_checkpoint_max': 5, '_keep_checkpoint_every_n_hours': 10000}\n",
      "\n",
      "WARNING:tensorflow:Input graph does not contain a QueueRunner. That means predict yields forever. This is probably a mistake.\n",
      "INFO:tensorflow:Restoring parameters from pretrained/model.ckpt-8069\n",
      "orange, rgb: (233, 124, 19)\n"
     ]
    },
    {
     "data": {
      "image/png": "[encoded data removed]",
      "text/plain": [
       "<matplotlib.figure.Figure at 0x1661fc358>"
      ]
     },
     "metadata": {},
     "output_type": "display_data"
    },
    {
     "name": "stdout",
     "output_type": "stream",
     "text": [
      "tensorflow orange, rgb: (232, 149, 88)\n"
     ]
    },
    {
     "data": {
      "image/png": "[encoded data removed]",
      "text/plain": [
       "<matplotlib.figure.Figure at 0x1664d3b00>"
      ]
     },
     "metadata": {},
     "output_type": "display_data"
    },
    {
     "name": "stdout",
     "output_type": "stream",
     "text": [
      "adfgasdgasd, rgb: (201, 184, 157)\n"
     ]
    },
    {
     "data": {
      "image/png": "[encoded data removed]",
      "text/plain": [
       "<matplotlib.figure.Figure at 0x1662f9710>"
      ]
     },
     "metadata": {},
     "output_type": "display_data"
    },
    {
     "name": "stdout",
     "output_type": "stream",
     "text": [
      "purple blue, rgb: (51, 13, 220)\n"
     ]
    },
    {
     "data": {
      "image/png": "[encoded data removed]",
      "text/plain": [
       "<matplotlib.figure.Figure at 0x16637a9e8>"
      ]
     },
     "metadata": {},
     "output_type": "display_data"
    },
    {
     "name": "stdout",
     "output_type": "stream",
     "text": [
      "purple red, rgb: (152, 40, 61)\n"
     ]
    },
    {
     "data": {
      "image/png": "[encoded data removed]",
      "text/plain": [
       "<matplotlib.figure.Figure at 0x16633b898>"
      ]
     },
     "metadata": {},
     "output_type": "display_data"
    },
    {
     "name": "stdout",
     "output_type": "stream",
     "text": [
      "purple, rgb: (92, 23, 109)\n"
     ]
    },
    {
     "data": {
      "image/png": "[encoded data removed]",
      "text/plain": [
       "<matplotlib.figure.Figure at 0x1663b56d8>"
      ]
     },
     "metadata": {},
     "output_type": "display_data"
    },
    {
     "name": "stdout",
     "output_type": "stream",
     "text": [
      "water, rgb: (160, 201, 202)\n"
     ]
    },
    {
     "data": {
      "image/png": "[encoded data removed]",
      "text/plain": [
       "<matplotlib.figure.Figure at 0x1665f4b70>"
      ]
     },
     "metadata": {},
     "output_type": "display_data"
    },
    {
     "name": "stdout",
     "output_type": "stream",
     "text": [
      "pink, rgb: (257, 153, 165)\n"
     ]
    },
    {
     "data": {
      "image/png": "[encoded data removed]",
      "text/plain": [
       "<matplotlib.figure.Figure at 0x166682ef0>"
      ]
     },
     "metadata": {},
     "output_type": "display_data"
    },
    {
     "name": "stdout",
     "output_type": "stream",
     "text": [
      "rock, rgb: (83, 65, 52)\n"
     ]
    },
    {
     "data": {
      "image/png": "[encoded data removed]",
      "text/plain": [
       "<matplotlib.figure.Figure at 0x1666fcda0>"
      ]
     },
     "metadata": {},
     "output_type": "display_data"
    }
   ],
   "source": [
    "#Pre-train model prediction\n",
    "\n",
    "pre_estimator = tf.estimator.Estimator(model_dir='pretrained', model_fn=model_fn)\n",
    "predict(pre_estimator, MY_TEST_INPUT)"
   ]
  },
  {
   "cell_type": "code",
   "execution_count": 13,
   "metadata": {},
   "outputs": [
    {
     "name": "stdout",
     "output_type": "stream",
     "text": [
      "WARNING:tensorflow:RunConfig.uid (from tensorflow.contrib.learn.python.learn.estimators.run_config) is experimental and may change or be removed at any time, and without warning.\n",
      "INFO:tensorflow:Using config: {'_task_type': None, '_task_id': 0, '_cluster_spec': <tensorflow.python.training.server_lib.ClusterSpec object at 0x1234a3eb8>, '_master': '', '_num_ps_replicas': 0, '_num_worker_replicas': 0, '_environment': 'local', '_is_chief': True, '_evaluation_master': '', '_tf_config': gpu_options {\n",
      "  per_process_gpu_memory_fraction: 1\n",
      "}\n",
      ", '_tf_random_seed': None, '_save_summary_steps': 100, '_save_checkpoints_secs': 600, '_session_config': None, '_save_checkpoints_steps': None, '_keep_checkpoint_max': 5, '_keep_checkpoint_every_n_hours': 10000, '_model_dir': 'model_dir'}\n",
      "WARNING:tensorflow:RunConfig.uid (from tensorflow.contrib.learn.python.learn.estimators.run_config) is experimental and may change or be removed at any time, and without warning.\n",
      "WARNING:tensorflow:From /Users/taocheng/anaconda/lib/python3.6/site-packages/tensorflow/contrib/learn/python/learn/monitors.py:268: BaseMonitor.__init__ (from tensorflow.contrib.learn.python.learn.monitors) is deprecated and will be removed after 2016-12-05.\n",
      "Instructions for updating:\n",
      "Monitors are deprecated. Please use tf.train.SessionRunHook.\n"
     ]
    },
    {
     "name": "stderr",
     "output_type": "stream",
     "text": [
      "/Users/taocheng/anaconda/lib/python3.6/site-packages/tensorflow/python/ops/gradients_impl.py:93: UserWarning: Converting sparse IndexedSlices to a dense Tensor of unknown shape. This may consume a large amount of memory.\n",
      "  \"Converting sparse IndexedSlices to a dense Tensor of unknown shape. \"\n"
     ]
    },
    {
     "name": "stdout",
     "output_type": "stream",
     "text": [
      "INFO:tensorflow:Create CheckpointSaverHook.\n",
      "INFO:tensorflow:Restoring parameters from model_dir/model.ckpt-732\n",
      "INFO:tensorflow:Saving checkpoints for 733 into model_dir/model.ckpt.\n",
      "INFO:tensorflow:loss = 0.00526277, step = 733\n",
      "INFO:tensorflow:Starting evaluation at 2017-07-15-18:14:36\n",
      "INFO:tensorflow:Restoring parameters from model_dir/model.ckpt-733\n",
      "INFO:tensorflow:Evaluation [1/100]\n",
      "INFO:tensorflow:Evaluation [2/100]\n",
      "INFO:tensorflow:Evaluation [3/100]\n",
      "INFO:tensorflow:Evaluation [4/100]\n",
      "INFO:tensorflow:Evaluation [5/100]\n",
      "INFO:tensorflow:Evaluation [6/100]\n",
      "INFO:tensorflow:Finished evaluation at 2017-07-15-18:14:37\n",
      "INFO:tensorflow:Saving dict for global step 733: global_step = 733, loss = 0.0967104\n",
      "INFO:tensorflow:Validation (step 733): loss = 0.0967104, global_step = 733\n",
      "INFO:tensorflow:global_step/sec: 3.56024\n",
      "INFO:tensorflow:loss = 0.0172557, step = 833 (28.089 sec)\n",
      "INFO:tensorflow:global_step/sec: 4.15839\n",
      "INFO:tensorflow:loss = 0.00393331, step = 933 (24.049 sec)\n",
      "INFO:tensorflow:global_step/sec: 5.02317\n",
      "INFO:tensorflow:loss = 0.00223359, step = 1033 (19.906 sec)\n",
      "INFO:tensorflow:global_step/sec: 5.55635\n",
      "INFO:tensorflow:loss = 0.0105142, step = 1133 (17.997 sec)\n",
      "INFO:tensorflow:global_step/sec: 5.15509\n",
      "INFO:tensorflow:loss = 0.0030129, step = 1233 (19.400 sec)\n",
      "INFO:tensorflow:global_step/sec: 5.21625\n",
      "INFO:tensorflow:loss = 0.000902587, step = 1333 (19.169 sec)\n",
      "INFO:tensorflow:global_step/sec: 4.89851\n",
      "INFO:tensorflow:loss = 0.000904116, step = 1433 (20.415 sec)\n",
      "INFO:tensorflow:Saving checkpoints for 1464 into model_dir/model.ckpt.\n",
      "INFO:tensorflow:Loss for final step: 0.000443131.\n",
      "INFO:tensorflow:Starting evaluation at 2017-07-15-18:17:18\n",
      "INFO:tensorflow:Restoring parameters from model_dir/model.ckpt-1464\n",
      "INFO:tensorflow:Evaluation [1/100]\n",
      "INFO:tensorflow:Evaluation [2/100]\n",
      "INFO:tensorflow:Evaluation [3/100]\n",
      "INFO:tensorflow:Evaluation [4/100]\n",
      "INFO:tensorflow:Evaluation [5/100]\n",
      "INFO:tensorflow:Evaluation [6/100]\n",
      "INFO:tensorflow:Finished evaluation at 2017-07-15-18:17:19\n",
      "INFO:tensorflow:Saving dict for global step 1464: global_step = 1464, loss = 0.0879452\n"
     ]
    },
    {
     "data": {
      "text/plain": [
       "({'global_step': 1464, 'loss': 0.087945201}, [])"
      ]
     },
     "execution_count": 13,
     "metadata": {},
     "output_type": "execute_result"
    }
   ],
   "source": [
    "# small important detail, to train properly with the experiment you need to\n",
    "# repeat the dataset the number of epochs desired\n",
    "train_input_fn = get_input_fn(TRAIN_INPUT, BATCH_SIZE, num_epochs=40)\n",
    "\n",
    "# create experiment\n",
    "def generate_experiment_fn(run_config, hparams):\n",
    "    estimator = tf.estimator.Estimator(model_fn=model_fn, config=run_config)\n",
    "    return tf.contrib.learn.Experiment(\n",
    "        estimator,\n",
    "        train_input_fn=train_input_fn,\n",
    "        eval_input_fn=test_input_fn\n",
    "    )\n",
    "\n",
    "learn_runner.run(generate_experiment_fn, run_config=tf.contrib.learn.RunConfig(model_dir='model_dir'))"
   ]
  },
  {
   "cell_type": "code",
   "execution_count": 14,
   "metadata": {
    "collapsed": true
   },
   "outputs": [],
   "source": [
    "def get_input_fn(csv_file, batch_size, num_epochs=1, shuffle=True):\n",
    "    def _parse(line):\n",
    "        # each line: name, red, green, blue\n",
    "        # split line\n",
    "        items = tf.string_split([line],',').values\n",
    "\n",
    "        # get color (r, g, b)\n",
    "        color = tf.string_to_number(items[1:], out_type=tf.float32) / 255.0\n",
    "\n",
    "        # split color_name into a sequence of characters\n",
    "        color_name = tf.string_split([items[0]], '')\n",
    "        length = color_name.indices[-1, 1] + 1 # length = index of last char + 1\n",
    "        color_name = color_name.values\n",
    "        return color, color_name, length\n",
    "\n",
    "    def input_fn():\n",
    "        # https://github.com/tensorflow/tensorflow/tree/master/tensorflow/contrib/data\n",
    "        dataset = (\n",
    "            tf.contrib.data.TextLineDataset(csv_file) # reading from the HD\n",
    "            .skip(1) # skip header\n",
    "            .map(_parse) # parse text to variables\n",
    "            .padded_batch(batch_size, padded_shapes=([None], [None], []),\n",
    "                               padding_values=(0.0, chr(0), tf.cast(0, tf.int64)))\n",
    "            \n",
    "            .repeat(num_epochs) # repeat dataset the number of epochs\n",
    "        )\n",
    "        \n",
    "        # for our \"manual\" test we don't want to shuffle the data\n",
    "        if shuffle:\n",
    "            dataset = dataset.shuffle(buffer_size=100000)\n",
    "\n",
    "        # create iterator\n",
    "        color, color_name, length = dataset.make_one_shot_iterator().get_next()\n",
    "\n",
    "        features = {\n",
    "            COLOR_NAME_KEY: color_name,\n",
    "            SEQUENCE_LENGTH_KEY: length,\n",
    "        }\n",
    "\n",
    "        return features, color\n",
    "    return input_fn"
   ]
  },
  {
   "cell_type": "code",
   "execution_count": 15,
   "metadata": {
    "collapsed": true
   },
   "outputs": [],
   "source": [
    "def get_model_fn(rnn_cell_sizes,\n",
    "                 label_dimension,\n",
    "                 dnn_layer_sizes=[],\n",
    "                 optimizer='SGD',\n",
    "                 learning_rate=0.01):\n",
    "    \n",
    "    def model_fn(features, labels, mode):\n",
    "        \n",
    "        color_name = features[COLOR_NAME_KEY]\n",
    "        sequence_length = tf.cast(features[SEQUENCE_LENGTH_KEY], dtype=tf.int32) # int64 -> int32\n",
    "        \n",
    "        # ----------- Preparing input --------------------\n",
    "        # Creating a tf constant to hold the map char -> index\n",
    "        # this is need to create the sparse tensor and after the one hot encode\n",
    "        mapping = tf.constant(CHARACTERS, name=\"mapping\")\n",
    "        table = tf.contrib.lookup.index_table_from_tensor(mapping, dtype=tf.string)\n",
    "        int_color_name = table.lookup(color_name)\n",
    "        \n",
    "        # representing colornames with one hot representation\n",
    "        color_name_onehot = tf.one_hot(int_color_name, depth=len(CHARACTERS) + 1)\n",
    "        \n",
    "        # ---------- RNN -------------------\n",
    "        # Each RNN layer will consist of a GRU cell\n",
    "        rnn_layers = [tf.nn.rnn_cell.GRUCell(size) for size in rnn_cell_sizes]\n",
    "        \n",
    "        # Construct the layers\n",
    "        multi_rnn_cell = tf.nn.rnn_cell.MultiRNNCell(rnn_layers)\n",
    "        \n",
    "        # Runs the RNN model dynamically\n",
    "        # more about it at: \n",
    "        # https://www.tensorflow.org/api_docs/python/tf/nn/dynamic_rnn\n",
    "        outputs, final_state = tf.nn.dynamic_rnn(cell=multi_rnn_cell,\n",
    "                                                 inputs=color_name_onehot,\n",
    "                                                 sequence_length=sequence_length,\n",
    "                                                 dtype=tf.float32)\n",
    "\n",
    "        # Slice to keep only the last cell of the RNN\n",
    "        last_activations = rnn_common.select_last_activations(outputs,\n",
    "                                                              sequence_length)\n",
    "\n",
    "        # ------------ Dense layers -------------------\n",
    "        # Construct dense layers on top of the last cell of the RNN\n",
    "        for units in dnn_layer_sizes:\n",
    "            last_activations = tf.layers.dense(\n",
    "              last_activations, units, activation=tf.nn.relu)\n",
    "        \n",
    "        # Final dense layer for prediction\n",
    "        predictions = tf.layers.dense(last_activations, label_dimension)\n",
    "\n",
    "        # ----------- Loss and Optimizer ----------------\n",
    "        loss = None\n",
    "        train_op = None\n",
    "\n",
    "        if mode != tf.estimator.ModeKeys.PREDICT:    \n",
    "            loss = tf.losses.mean_squared_error(labels, predictions)\n",
    "    \n",
    "        if mode == tf.estimator.ModeKeys.TRAIN:    \n",
    "            train_op = tf.contrib.layers.optimize_loss(\n",
    "              loss,\n",
    "              tf.contrib.framework.get_global_step(),\n",
    "              optimizer=optimizer,\n",
    "              learning_rate=learning_rate)\n",
    "        \n",
    "        return model_fn_lib.EstimatorSpec(mode,\n",
    "                                           predictions=predictions,\n",
    "                                           loss=loss,\n",
    "                                           train_op=train_op)\n",
    "    return model_fn"
   ]
  },
  {
   "cell_type": "code",
   "execution_count": null,
   "metadata": {
    "collapsed": true
   },
   "outputs": [],
   "source": []
  }
 ],
 "metadata": {
  "kernelspec": {
   "display_name": "Python 3",
   "language": "python",
   "name": "python3"
  },
  "language_info": {
   "codemirror_mode": {
    "name": "ipython",
    "version": 3
   },
   "file_extension": ".py",
   "mimetype": "text/x-python",
   "name": "python",
   "nbconvert_exporter": "python",
   "pygments_lexer": "ipython3",
   "version": "3.6.1"
  }
 },
 "nbformat": 4,
 "nbformat_minor": 2
}
